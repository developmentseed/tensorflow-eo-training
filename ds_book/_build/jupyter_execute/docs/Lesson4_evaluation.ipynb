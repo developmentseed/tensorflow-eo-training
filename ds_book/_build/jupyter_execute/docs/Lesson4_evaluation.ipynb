{
 "cells": [
  {
   "cell_type": "markdown",
   "metadata": {
    "id": "MYe-1iFbo3dQ"
   },
   "source": [
    "# Evaluating Semantic Segmentation Models\n",
    "> A guide for understanding the performance of semantic segmentation for land use / land cover in satellite imagery."
   ]
  },
  {
   "cell_type": "markdown",
   "metadata": {
    "id": "zYmAYTogOkpd"
   },
   "source": [
    "After we have trained a model for segmenting images according to a set of classes it's time to evaluate how well it has performed. With any supervised machine learning model, we are typically interested in minimizing false positives or false negatives, with a preference for one or the other. \n",
    "\n",
    "Additionally, are also interested in making sure our model generalizes beyond the training dataset to new data it was not trained on. Finally, we'd like our model to make high confidence, correct predictions, and for higher confidence thresholds to not result in many more false negatives.\n",
    "\n",
    "For semantic segmentation, our evaluation unit is an individual pixel, which can be one of four categories:\n",
    "* true positive: the pixel was classified correctly as a class of interest.\n",
    "* true negative: the pixel was classified correctly as the background class.\n",
    "* false positive: the pixel was incorrectly assigned a class of interest\n",
    "* false negative: the pixel was incorrectly assigned the background class or a different class\n",
    "\n",
    "The most in depth and succinct summary we can produce is a confusion matrix. It summarrizes the counts of pixels that fall into each of these categories for each of our classes of interest and the background class.\n",
    "\n",
    "\n",
    "![Confusion Matrix Example](https://github.com/developmentseed/tensorflow-eo-training/blob/main/ds_book/docs/images/cm.png?raw=1)\n",
    "\n",
    "In this tutorial we will using data from a reference dataset hosted on Radiant Earth MLHub called [\"A Fusion Dataset for Crop Type Classification in Germany\"](https://mlhub.earth/data/dlr_fusion_competition_germany), and our U-Net predictions to compute a confusion matrix to assess our model performance. \n",
    "\n",
    "## Specific concepts that will be covered\n",
    "In the process, we will build practical experience and develop intuition around the following concepts:\n",
    "* **[sci-kit learn](https://scikit-learn.org/stable/modules/generated/sklearn.metrics.confusion_matrix.html)** - we will use sci-kit learn to compute a confusion matrix and discuss how supplying different values to the `normalize `argument can help us interpret our data. \n",
    "* **Metrics** - We will cover useful summary metrics that capture much of the information in the confusion matrix, including precision, recall, and F1 Score.\n",
    "\n",
    "\n",
    "**Audience:** This post is geared towards intermediate users who are comfortable with basic machine learning concepts. \n",
    "\n",
    "**Time Estimated**: 60-120 min\n",
    "\n"
   ]
  },
  {
   "cell_type": "markdown",
   "metadata": {
    "id": "8wLP8n9tvVwD"
   },
   "source": [
    "## Setup Notebook"
   ]
  },
  {
   "cell_type": "code",
   "execution_count": null,
   "metadata": {
    "id": "lYMOkBeaeuoV"
   },
   "outputs": [],
   "source": [
    "# install required libraries\n",
    "!pip install -q rasterio==1.2.10\n",
    "!pip install -q geopandas==0.10.2\n",
    "!pip install -q git+https://github.com/tensorflow/examples.git\n",
    "!pip install -q -U tfds-nightly\n",
    "!pip install -q focal-loss\n",
    "!pip install -q tensorflow-addons==0.8.3\n",
    "#!pip install -q matplotlib==3.5 # UNCOMMENT if running on LOCAL\n",
    "!pip install -q scikit-learn==1.0.1\n",
    "!pip install -q scikit-image==0.18.3"
   ]
  },
  {
   "cell_type": "code",
   "execution_count": 2,
   "metadata": {
    "id": "X-hVmWq9Okpl"
   },
   "outputs": [],
   "source": [
    "# import required libraries\n",
    "import os, glob, functools, fnmatch\n",
    "from zipfile import ZipFile\n",
    "from itertools import product\n",
    "\n",
    "import numpy as np\n",
    "import matplotlib.pyplot as plt\n",
    "import matplotlib as mpl\n",
    "mpl.rcParams['axes.grid'] = False\n",
    "mpl.rcParams['figure.figsize'] = (12,12)\n",
    "import matplotlib.image as mpimg\n",
    "import pandas as pd\n",
    "from PIL import Image\n",
    "import geopandas as gpd\n",
    "from IPython.display import clear_output\n",
    "from time import sleep\n",
    "\n",
    "import skimage.io as skio # lighter dependency than tensorflow for working with our tensors/arrays\n",
    "from sklearn.metrics import confusion_matrix, f1_score"
   ]
  },
  {
   "cell_type": "markdown",
   "metadata": {
    "id": "uVQOf_jbw5fN"
   },
   "source": [
    "#### Getting set up with the data\n",
    "\n",
    "```{important}\n",
    "The tiled imagery is available at the following path that is accessible with the google.colab `drive` module: `'/content/gdrive/My Drive/tf-eo-devseed/'`\n",
    "```\n",
    "\n",
    "We'll be working with the following folders and files in the `tf-eo-devseed` folder:\n",
    "```\n",
    "tf-eo-devseed/\n",
    "├── stacks/\n",
    "├── stacks_brightened/\n",
    "├── indices/\n",
    "├── labels/\n",
    "├── background_list_train.txt\n",
    "├── train_list_clean.txt\n",
    "└── lulc_classes.csv\n",
    "```"
   ]
  },
  {
   "cell_type": "code",
   "execution_count": null,
   "metadata": {
    "id": "Y_UgojhBOkpe"
   },
   "outputs": [],
   "source": [
    "# set your root directory and tiled data folders\n",
    "if 'google.colab' in str(get_ipython()):\n",
    "    # mount google drive\n",
    "    from google.colab import drive\n",
    "    drive.mount('/content/gdrive')\n",
    "    root_dir = '/content/gdrive/My Drive/tf-eo-devseed/' \n",
    "    workshop_dir = '/content/gdrive/My Drive/tf-eo-devseed-workshop'\n",
    "    dirs = [root_dir, workshop_dir]\n",
    "    for d in dirs:\n",
    "        if not os.path.exists(d):\n",
    "            os.makedirs(d)\n",
    "    print('Running on Colab')\n",
    "else:\n",
    "    root_dir = os.path.abspath(\"./data/tf-eo-devseed\")\n",
    "    workshop_dir = os.path.abspath('./tf-eo-devseed-workshop')\n",
    "    print(f'Not running on Colab, data needs to be downloaded locally at {os.path.abspath(root_dir)}')"
   ]
  },
  {
   "cell_type": "code",
   "execution_count": null,
   "metadata": {
    "id": "LEmJkl8AlE1r"
   },
   "outputs": [],
   "source": [
    "# go to root directory\n",
    "%cd $root_dir "
   ]
  },
  {
   "cell_type": "markdown",
   "metadata": {
    "id": "ldG5RFPFNgOo"
   },
   "source": [
    "### Check out the labels\n",
    "Class names and identifiers extracted from the documentation provided here: https://radiantearth.blob.core.windows.net/mlhub/esa-food-security-challenge/Crops_GT_Brandenburg_Doc.pdf\n",
    "\n",
    "We'll use these labels to label our confusion matrix and table with class specific metrics."
   ]
  },
  {
   "cell_type": "code",
   "execution_count": 7,
   "metadata": {
    "colab": {
     "base_uri": "https://localhost:8080/"
    },
    "id": "jAbEMB8i87FL",
    "outputId": "fecc5be3-756d-46dc-a204-b9123dde55af"
   },
   "outputs": [
    {
     "name": "stdout",
     "output_type": "stream",
     "text": [
      "    class_names  class_ids\n",
      "0    Background          0\n",
      "1         Wheat          1\n",
      "2           Rye          2\n",
      "3        Barley          3\n",
      "4          Oats          4\n",
      "5          Corn          5\n",
      "6     Oil Seeds          6\n",
      "7    Root Crops          7\n",
      "8       Meadows          8\n",
      "9  Forage Crops          9\n"
     ]
    }
   ],
   "source": [
    "# Read the classes\n",
    "\n",
    "data = {'class_names':  ['Background', 'Wheat', 'Rye', 'Barley', 'Oats', 'Corn', 'Oil Seeds', 'Root Crops', 'Meadows', 'Forage Crops'],\n",
    "        'class_ids': [0, 1, 2, 3, 4, 5, 6, 7, 8, 9]\n",
    "        }\n",
    "\n",
    "classes = pd.DataFrame(data)\n",
    "print(classes) \n"
   ]
  },
  {
   "cell_type": "markdown",
   "metadata": {
    "id": "zI4907uiOkqN"
   },
   "source": [
    "### Getting image, prediction, and label filenames\n",
    "\n",
    "Before creating our confusion matrix, we need to associate labels, images, and prediction files together so that we know what to compare. We'll use our standard python for this."
   ]
  },
  {
   "cell_type": "markdown",
   "metadata": {
    "id": "dYbvmkUXCsrL"
   },
   "source": [
    "### Evaluate Model\n",
    "\n",
    "Compute confusion matrix from all predicted images and their ground truth label masks. "
   ]
  },
  {
   "cell_type": "markdown",
   "metadata": {
    "id": "o31Kd-7C54KF"
   },
   "source": [
    "First we need to read in our prediction masks that we saved out in the last notebook. To do this, we can use scikit image, and then we can use scikit learn to compute our confusion matrix. No tensorflow needed for this part!"
   ]
  },
  {
   "cell_type": "code",
   "execution_count": 10,
   "metadata": {
    "id": "T9LH06WF54KF"
   },
   "outputs": [],
   "source": [
    "path_df = pd.read_csv(os.path.join(workshop_dir, \"test_file_paths.csv\"))"
   ]
  },
  {
   "cell_type": "code",
   "execution_count": null,
   "metadata": {
    "id": "rp-4dbgH54KG"
   },
   "outputs": [],
   "source": [
    "pd.set_option('display.max_colwidth', None)\n",
    "path_df"
   ]
  },
  {
   "cell_type": "code",
   "execution_count": 12,
   "metadata": {
    "id": "-x02hnzv54KG"
   },
   "outputs": [],
   "source": [
    "# reading in preds\n",
    "label_arr_lst = path_df[\"label_names\"].apply(skio.imread)\n",
    "pred_arr_lst = path_df[\"pred_names\"].apply(skio.imread)"
   ]
  },
  {
   "cell_type": "markdown",
   "metadata": {
    "id": "2tj1UDUw54KG"
   },
   "source": [
    "A few of our labels have an image dimension that doesn't match the prediction dimension! It's possible this image was corrupted. We can skip it and the corresponding prediction when computing our metrics."
   ]
  },
  {
   "cell_type": "code",
   "execution_count": null,
   "metadata": {
    "id": "EZ3AcZrA54KH"
   },
   "outputs": [],
   "source": [
    "pred_arr_lst_valid = []\n",
    "label_arr_lst_valid = []\n",
    "for i in range(0, len(pred_arr_lst)):\n",
    "    if pred_arr_lst[i].shape != label_arr_lst[i].shape:\n",
    "        \n",
    "        print(f\"The {i}th label has an incorrect dimension, skipping.\")\n",
    "        print(pred_arr_lst[i])\n",
    "        print(label_arr_lst[i])\n",
    "        print(pred_arr_lst[i].shape)\n",
    "        print(label_arr_lst[i].shape)\n",
    "        \n",
    "    else:\n",
    "        pred_arr_lst_valid.append(pred_arr_lst[i])\n",
    "        label_arr_lst_valid.append(label_arr_lst[i])"
   ]
  },
  {
   "cell_type": "markdown",
   "metadata": {
    "id": "Ym9l5-zB54KH"
   },
   "source": [
    "With our predictions and labels in lists of tiled arrays, we can then flatten these so that we instead have lists of pixels for predictions and labels. This is the format expected by scikit-learn's `confusion_matrix` function."
   ]
  },
  {
   "cell_type": "code",
   "execution_count": 14,
   "metadata": {
    "id": "wI2LV_U5Okrb"
   },
   "outputs": [],
   "source": [
    "# flatten our tensors and use scikit-learn to create a confusion matrix\n",
    "flat_preds = np.concatenate(pred_arr_lst_valid).flatten()\n",
    "flat_truth = np.concatenate(label_arr_lst_valid).flatten()\n",
    "OUTPUT_CHANNELS = 10\n",
    "cm = confusion_matrix(flat_truth, flat_preds, labels=list(range(OUTPUT_CHANNELS)))"
   ]
  },
  {
   "cell_type": "markdown",
   "metadata": {
    "id": "tcegbib954KH"
   },
   "source": [
    "Finally, we can plot the confusion matrix. We can either use the built-in method from scikit-learn... "
   ]
  },
  {
   "cell_type": "code",
   "execution_count": null,
   "metadata": {
    "id": "LGQSTBGx54KI"
   },
   "outputs": [],
   "source": [
    "from sklearn.metrics import ConfusionMatrixDisplay\n",
    "\n",
    "ConfusionMatrixDisplay.from_predictions(flat_truth, flat_preds, normalize='true')"
   ]
  },
  {
   "cell_type": "markdown",
   "metadata": {
    "id": "Jx-ARUB654KI"
   },
   "source": [
    "... or matplotlib, which allows us to more easily customize all aspects of our plot."
   ]
  },
  {
   "cell_type": "code",
   "execution_count": null,
   "metadata": {
    "id": "1wlhiog_Okre"
   },
   "outputs": [],
   "source": [
    "classes = [0,1,2,3,4,5,6,7,8,9]\n",
    "\n",
    "%matplotlib inline\n",
    "cm = cm.astype('float') / cm.sum(axis=1)[:, np.newaxis]\n",
    "fig, ax = plt.subplots(figsize=(10, 10))\n",
    "im = ax.imshow(cm, interpolation='nearest', cmap=plt.cm.Blues)\n",
    "ax.figure.colorbar(im, ax=ax)\n",
    "# We want to show all ticks...\n",
    "ax.set(xticks=np.arange(cm.shape[1]),\n",
    "       yticks=np.arange(cm.shape[0]),\n",
    "       # ... and label them with the respective list entries\n",
    "       xticklabels=list(range(OUTPUT_CHANNELS)), yticklabels=list(range(OUTPUT_CHANNELS)),\n",
    "       title='Normalized Confusion Matrix',\n",
    "       ylabel='True label',\n",
    "       xlabel='Predicted label')\n",
    "\n",
    "# Rotate the tick labels and set their alignment.\n",
    "plt.setp(ax.get_xticklabels(), rotation=45, ha=\"right\",\n",
    "         rotation_mode=\"anchor\")\n",
    "\n",
    "# Loop over data dimensions and create text annotations.\n",
    "fmt = '.2f' #'d' # if normalize else 'd'\n",
    "thresh = cm.max() / 2.\n",
    "for i in range(cm.shape[0]):\n",
    "    for j in range(cm.shape[1]):\n",
    "        ax.text(j, i, format(cm[i, j], fmt),\n",
    "                ha=\"center\", va=\"center\",\n",
    "                color=\"white\" if cm[i, j] > thresh else \"black\")\n",
    "fig.tight_layout(pad=2.0, h_pad=2.0, w_pad=2.0)\n",
    "ax.set_ylim(len(classes)-0.5, -0.5)"
   ]
  },
  {
   "cell_type": "markdown",
   "metadata": {
    "id": "pmFmZ45aI95a"
   },
   "source": [
    "Now let's compute the f1 score\n",
    "\n",
    "F1 = 2 * (precision * recall) / (precision + recall)\n"
   ]
  },
  {
   "cell_type": "markdown",
   "metadata": {
    "id": "A-zPJieE54KJ"
   },
   "source": [
    "You can view the documentation for a python function in a jupyter notebook with \"??\". scikit-learn docs usually come with detaile descriptions of each argument and examples of usage."
   ]
  },
  {
   "cell_type": "code",
   "execution_count": null,
   "metadata": {
    "id": "GRuridn054KJ"
   },
   "outputs": [],
   "source": [
    "f1_score??"
   ]
  },
  {
   "cell_type": "code",
   "execution_count": null,
   "metadata": {
    "id": "MSdwTssgI7MF"
   },
   "outputs": [],
   "source": [
    "# compute f1 score\n",
    "f1_score(flat_truth, flat_preds, average='macro')"
   ]
  },
  {
   "cell_type": "code",
   "execution_count": null,
   "metadata": {
    "id": "N5vOIKFXOkrh"
   },
   "outputs": [],
   "source": []
  }
 ],
 "metadata": {
  "accelerator": "GPU",
  "colab": {
   "collapsed_sections": [],
   "machine_shape": "hm",
   "name": "Copy of Indices_DeepLearning_Crop_Segmentation_112021.ipynb",
   "provenance": [],
   "toc_visible": true
  },
  "kernelspec": {
   "display_name": "Python [conda env:geospatial]",
   "language": "python",
   "name": "conda-env-geospatial-py"
  },
  "language_info": {
   "codemirror_mode": {
    "name": "ipython",
    "version": 3
   },
   "file_extension": ".py",
   "mimetype": "text/x-python",
   "name": "python",
   "nbconvert_exporter": "python",
   "pygments_lexer": "ipython3",
   "version": "3.9.7"
  }
 },
 "nbformat": 4,
 "nbformat_minor": 0
}