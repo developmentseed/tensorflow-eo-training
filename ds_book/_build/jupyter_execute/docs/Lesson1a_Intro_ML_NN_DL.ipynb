{
 "cells": [
  {
   "cell_type": "markdown",
   "metadata": {
    "id": "yl_5Jv9Xr10t"
   },
   "source": [
    "# Introduction to machine learning, neural networks and deep learning"
   ]
  },
  {
   "cell_type": "markdown",
   "metadata": {
    "id": "qx-HvbTNr10w"
   },
   "source": [
    "## Objectives"
   ]
  },
  {
   "cell_type": "markdown",
   "metadata": {
    "id": "8aCvX-Urr10x"
   },
   "source": [
    "- Understand the fundamental goals of machine learning and a bit of the field's history\n",
    "- Gain familiarity with the mechanics of a neural network, convolutional neural networks, and the U-Net architecture in particular\n",
    "- Discuss considerations for choosing a deep learning architecture for a particular problem"
   ]
  },
  {
   "cell_type": "markdown",
   "metadata": {
    "id": "SxEC14GmsCYY"
   },
   "source": [
    "Below is a video recording of the oral lecture associated with this lesson and the following. It was given by Lilly Thomas, ML Engineer at Development Seed."
   ]
  },
  {
   "cell_type": "code",
   "execution_count": 1,
   "metadata": {
    "colab": {
     "base_uri": "https://localhost:8080/",
     "height": 621
    },
    "id": "34v26rbRr5SU",
    "outputId": "f406fb78-39a6-4510-d987-35976a8827ea"
   },
   "outputs": [
    {
     "data": {
      "image/jpeg": "[encoded data removed]",
      "text/html": [
       "\n",
       "<iframe\n",
       "    width=\"800\"\n",
       "    height=\"600\"\n",
       "    src=\"https://www.youtube.com/embed/-C3niPVd-zU\"\n",
       "    frameborder=\"0\"\n",
       "    allowfullscreen\n",
       "></iframe>\n"
      ],
      "text/plain": [
       "<IPython.lib.display.YouTubeVideo at 0x7fe0384e5d50>"
      ]
     },
     "execution_count": 1,
     "metadata": {
      "filenames": {
       "image/jpeg": "/Users/lillythomas/Documents/work/servir_amazonia/generic/issue1/tensorflow-eo-training/ds_book/_build/jupyter_execute/docs/Lesson1a_Intro_ML_NN_DL_4_0.jpeg"
      }
     },
     "output_type": "execute_result"
    }
   ],
   "source": [
    "from IPython.display import YouTubeVideo\n",
    "\n",
    "def display_yotube_video(url, **kwargs):\n",
    "    id_ = url.split(\"=\")[-1]\n",
    "    return YouTubeVideo(id_, **kwargs)\n",
    "\n",
    "display_yotube_video(\"https://www.youtube.com/watch?v=-C3niPVd-zU\", width=800, height=600)"
   ]
  },
  {
   "cell_type": "markdown",
   "metadata": {
    "id": "VbaRU_qEr10x"
   },
   "source": [
    "### What is Machine Learning?\n",
    "\n",
    "Machine learning (ML) is a subset of artificial intelligence (AI), which in broad terms, is defined as the ability of a machine to simulate intelligent human behavior. \n",
    "\n",
    ":::{figure-md} ai_ml_dl-fig\n",
    "<img src=\"https://human-centered.ai/wordpress/wp-content/uploads/2017/11/Deep-Learning-subset-of-Machine-Learning-subset-of-Artificial-Intelligence.jpg\" width=\"450px\">\n",
    "\n",
    "[AI, ML, DL](https://www.frwebs.top/products.aspx?cname=difference+between+ml+dl+and+ai&cid=7).\n",
    ":::\n",
    "\n",
    "Compared to traditional programming, ML offers:\n",
    "1) time savings on behalf of the human programmer, \n",
    "2) time savings on behalf of a human manual interpreter,\n",
    "3) reduction of human error,\n",
    "4) scalable decision making\n",
    "\n",
    "ML requires good quality data, and a lot of it, to recognize key patterns and features. \n",
    "\n",
    "Humans still have a role in this process, by way of supplying the model with data and choosing algorithms and parameters.  \n",
    "\n",
    "There are several subcategories of machine learning:\n",
    "\n",
    "1) **Supervised machine learning** involves training a model with labeled data sets that explicitly give examples of predictive features and their target attribute(s). \n",
    "\n",
    "2) **Unsupervised machine learning** involves tasking a model to search for patterns in data without the guidance of labels. \n",
    "\n"
   ]
  },
  {
   "cell_type": "markdown",
   "metadata": {
    "id": "wwqD_CCfr10y"
   },
   "source": [
    "```{important}\n",
    "There are also some problems where machine learning is uniquely equipped to learn insights and make decisions when a human might not, such as drawing relationships from combined spectral indices in a complex terrain. \n",
    "```"
   ]
  },
  {
   "cell_type": "markdown",
   "metadata": {
    "id": "1_twocgjr10y"
   },
   "source": [
    "### What are Neural Networks?"
   ]
  },
  {
   "cell_type": "markdown",
   "metadata": {
    "id": "7lhnGgWhr10y"
   },
   "source": [
    "Artificial neural networks (ANNs) are a specific, biologically-inspired class of machine learning algorithms. They are modeled after the structure and function of the human brain.\n",
    "\n",
    ":::{figure-md} neuron-fig\n",
    "<img src=\"https://github.com/developmentseed/tensorflow-eo-training/blob/main/ds_book/docs/images/neuron-structure.jpg?raw=1\" width=\"450px\">\n",
    "\n",
    "Biological neuron (from [https://training.seer.cancer.gov/anatomy/nervous/tissue.html](https://training.seer.cancer.gov/anatomy/nervous/tissue.html)).\n",
    ":::\n",
    "\n",
    "ANNs are essentially programs that make decisions by weighing the evidence and responding to feedback. By varying the input data, types of parameters and their values, we can get different models of decision-making.\n",
    "\n",
    ":::{figure-md} neuralnet_basic-fig\n",
    "<img src=\"https://miro.medium.com/max/1100/1*x6KWjKTOBhUYL0MRX4M3oQ.png\" width=\"450px\">\n",
    "\n",
    "Basic neural network from [https://towardsdatascience.com/machine-learning-for-beginners-an-introduction-to-neural-networks-d49f22d238f9](https://towardsdatascience.com/machine-learning-for-beginners-an-introduction-to-neural-networks-d49f22d238f9).\n",
    ":::\n",
    "\n",
    "In network architectures, neurons are grouped in layers, with synapses traversing the interstitial space between neurons in one layer and the next."
   ]
  },
  {
   "cell_type": "markdown",
   "metadata": {
    "id": "YTyjflqtr100"
   },
   "source": [
    "#### What are Convolutional Neural Networks?\n",
    "\n",
    "A Convolutional Neural Network (ConvNet/CNN) is a form of deep learning inspired by the organization of the human visual cortex, in which individual neurons respond to stimuli within a constrained region of the visual field known as the receptive field. Several receptive fields overlap to account for the entire visual area. \n",
    "\n",
    "In artificial CNNs, an input matrix such as an image is given importance per various aspects and objects in the image through a moving, convoling receptive field. Very little pre-processing is required for CNNs relative to other classification methods as the need for upfront feature-engineering is removed. Rather, CNNs learn the correct filters and consequent features on their own, provided enough training time and examples. "
   ]
  },
  {
   "cell_type": "markdown",
   "metadata": {
    "id": "ekq0WKNhr100"
   },
   "source": [
    ":::{figure-md} convolution-fig\n",
    "<img src=\"https://miro.medium.com/max/1400/1*Fw-ehcNBR9byHtho-Rxbtw.gif\" width=\"450px\">\n",
    "\n",
    "Convolution of a kernal over an input matrix from [https://towardsdatascience.com/intuitively-understanding-convolutions-for-deep-learning-1f6f42faee1](https://towardsdatascience.com/intuitively-understanding-convolutions-for-deep-learning-1f6f42faee1).\n",
    ":::\n",
    "\n",
    "#### What is a kernel/filter?\n",
    "A kernel is matrix smaller than the input. It acts as a receptive field that moves over the input matrix from left to right and top to bottom and filters for features in the image.\n",
    "\n",
    "#### What is stride?\n",
    "Stride refers to the number of pixels that the kernel shifts at each step in its navigation of the input matrix. \n",
    "\n",
    "#### What is a convolution operation?\n",
    "The convolution operation is the combination of two functions to produce a third function as a result. In effect, it is a merging of two sets of information, the kernel and the input matrix.\n",
    "\n",
    ":::{figure-md} convolution-arithmetic-fig\n",
    "<img src=\"https://theano-pymc.readthedocs.io/en/latest/_images/numerical_no_padding_no_strides.gif\" width=\"450px\">\n",
    "\n",
    "Convolution of a kernal over an input matrix from [https://theano-pymc.readthedocs.io/en/latest/tutorial/conv_arithmetic.html](https://theano-pymc.readthedocs.io/en/latest/tutorial/conv_arithmetic.html).\n",
    ":::\n",
    "\n",
    "#### Convolution operation using 3D filter\n",
    "An input image is often represented as a 3D matrix with a dimension for width (pixels), height (pixels), and depth (channels). In the case of an optical image with red, green and blue channels, the kernel/filter matrix is shaped with the same channel depth as the input and the weighted sum of dot products is computed across all 3 dimensions.\n",
    "\n",
    "#### What is padding?\n",
    "After a convolution operation, the feature map is by default smaller than the original input matrix. \n",
    "\n",
    ":::{figure-md} multi_layer_CNN-fig\n",
    "<img src=\"https://www.researchgate.net/profile/Sheraz-Khan-14/publication/321586653/figure/fig4/AS:568546847014912@1512563539828/The-LeNet-5-Architecture-a-convolutional-neural-network.png\" width=\"450px\">\n",
    "\n",
    "[Progressive downsizing of feature maps in a multi-layer CNN](https://www.researchgate.net/figure/The-LeNet-5-Architecture-a-convolutional-neural-network_fig4_321586653).\n",
    ":::\n",
    "\n",
    "To maintain the same spatial dimensions between input matrix and output feature map, we may pad the input matrix with a border of zeroes or ones. There are two types of padding:\n",
    "1. Same padding: a border of zeroes or ones is added to match the input/output dimensions\n",
    "2. Valid padding: no border is added and the output dimensions are not matched to the input\n",
    "\n",
    "\n",
    ":::{figure-md} padding-fig\n",
    "<img src=\"https://miro.medium.com/max/666/1*noYcUAa_P8nRilg3Lt_nuA.png\" width=\"450px\">\n",
    "\n",
    "[Padding an input matrix with zeroes](https://ayeshmanthaperera.medium.com/what-is-padding-in-cnns-71b21fb0dd7).\n",
    ":::"
   ]
  },
  {
   "cell_type": "markdown",
   "metadata": {
    "id": "4sYURaaar101"
   },
   "source": [
    "### What is Deep Learning?\n"
   ]
  },
  {
   "cell_type": "markdown",
   "metadata": {
    "id": "FnGx0WICr102"
   },
   "source": [
    "Deep learning is defined by neural networks with depth, i.e. many layers and connections. The reason for why deep learning is so highly performant lies in the degree of abstraction made possible by feature extraction across so many layers in which each neuron, or processing unit, is interacting with input from neurons in previous layers and making decisions accordingly. The deepest layers of a network once trained can be capable inferring highly abstract concepts, such as what differentiates a school from a house in satellite imagery."
   ]
  },
  {
   "cell_type": "markdown",
   "metadata": {
    "id": "LHkz7Rk4r102"
   },
   "source": [
    "```{admonition} **Cost of deep learning**\n",
    "Deep learning requires a lot of data to learn from and usually a significant amount of computing power, so it can be expensive depending on the scope of the problem. \n",
    "```"
   ]
  },
  {
   "cell_type": "markdown",
   "metadata": {
    "id": "D_C4frgrr102"
   },
   "source": [
    "#### Training and Testing Data\n",
    "\n",
    "The dataset (e.g. all images and their labels) are split into training, validation and testing sets. A common ratio is 70:20:10 percent, train:validation:test.  If randomly split, it is important to check that all class labels exist in all sets and are well represented.\n",
    "\n",
    "```{important} Why do we need validation and test data? Are they redundant?\n",
    "We need separate test data to evaluate the performance of the model because the validation data is used during training to measure error and therefore inform updates to the model parameters. Therefore, validation data is not unbiased to the model. A need for new, wholly unseen data to test with is required.\n",
    "```"
   ]
  },
  {
   "cell_type": "markdown",
   "metadata": {
    "id": "deLS33wsr103"
   },
   "source": [
    "#### Forward and backward propagation, hyper-parameters, and learnable parameters\n",
    "\n",
    "Neural networks train in cycles, where the input data passes through the network, a relationship between input data and target values is learned, a prediction is made, the prediction value is measured for error relative to its true value, and the errors are used to inform updates to parameters in the network, feeding into the next cycle of learning and prediction using the updated information. This happens through a two-step process called forward propagation and back propagation, in which the first part is used to gather knowledge and the second part is used to correct errors in the model’s knowledge.\n",
    "\n",
    "\n",
    ":::{figure-md} forward_backprop-fig\n",
    "<img src=\"https://thumbs.gfycat.com/BitesizedWeeBlacklemur-max-1mb.gif\" width=\"450px\">\n",
    "\n",
    "[Forward and back propagation](https://gfycat.com/gifs/search/backpropagation).\n",
    ":::\n",
    "\n",
    "The **activation function** decides whether or not the output from one neuron is useful or not based on a threshold value, and therefore, whether it will be carried from one layer to the next.\n",
    "\n",
    "**Weights** control the signal (or the strength of the connection) between two neurons in two consecutive layers.\n",
    "\n",
    "**Biases** are values which help determine whether or not the activation output from a neuron is going to be passed forward through the network. \n",
    "\n",
    "In a neural network, neurons in one layer are connected to neurons in the next layer. As information passes from one neuron to the next, the information is conditioned by the weight of the synapse and is subjected to a bias. The weights and biases determine if the information passes further beyond the current neuron.\n",
    "\n",
    ":::{figure-md} activation-fig\n",
    "<img src=\"https://cdn-images-1.medium.com/max/651/1*UA30b0mJUPYoPvN8yJr2iQ.jpeg\" width=\"450px\">\n",
    "\n",
    "[Weights, bias, activation](https://laptrinhx.com/statistics-is-freaking-hard-wtf-is-activation-function-207913705/).\n",
    ":::\n",
    "\n",
    "During training, the weights and biases are learned and updated using the training and validation dataset to fit the data and reduce error of prediction values relative to target values.\n",
    "\n",
    "```{important}\n",
    "- **Activation function**: decides whether or not the output from one neuron is useful or not\n",
    "- **Weights**: control the signal between neurons in consecutive layers\n",
    "- **Biases**: a threshold value that determines the activation of each neuron \n",
    "- Weights and biases are the learnable parameters of a deep learning model\n",
    "```"
   ]
  },
  {
   "cell_type": "markdown",
   "metadata": {
    "id": "MZvc6j0Yr103"
   },
   "source": [
    "The **learning rate** controls how much we want the model to change in response to the estimated error after each training cycle\n",
    "\n",
    ":::{figure-md} loss_curve-fig\n",
    "<img src=\"https://d1zx6djv3kb1v7.cloudfront.net/wp-content/media/2019/09/Neural-network-32-i2tutorials.png\" width=\"450px\">\n",
    "\n",
    "[Local vs. global minimum (the optimal point to reach)](https://www.i2tutorials.com/what-are-local-minima-and-global-minima-in-gradient-descent/).\n",
    ":::\n",
    "\n",
    "The **batch size** determines the portion of our training dataset that can be fed to the model during each cycle. Stated otherwise, batch size controls the number of training samples to work through before the model’s internal parameters are updated.\n",
    "\n",
    ":::{figure-md} batch_epoch-fig\n",
    "<img src=\"https://www.baeldung.com/wp-content/uploads/sites/4/2020/12/epoch-batch-size.png\" width=\"250px\">\n",
    "\n",
    "[Modulating batch size detetmines how many iterations are within one epoch](https://www.baeldung.com/cs/epoch-neural-networks).\n",
    ":::\n",
    "\n",
    "An **epoch** is defined as the point when all training samples, aka the entire dataset, has passed through the neural network once. The number of epochs controls how many times the entire dataset is cycled through and analyzed by the neural network. Related, but not necessarily as a parameter is an **iteration**, which is the pass of one batch through the network. If the batch size is smaller than the size of the whole dataset, then there are multiple iterations in one epoch.\n",
    "\n",
    "The **optimization function** is really important. It’s what we use to change the attributes of your neural network such as weights and biases in order to reduce the losses. The goal of an optimization function is to minimize the error produced by the model.\n",
    "\n",
    "The **loss function**, also known as the cost function, measures how much the model needs to improve based on the prediction errors relative to the true values during training. \n",
    "\n",
    ":::{figure-md} loss_curve-fig\n",
    "<img src=\"https://miro.medium.com/max/810/1*UUHvSixG7rX2EfNFTtqBDA.gif\" width=\"450px\">\n",
    "\n",
    "[Loss curve](https://towardsdatascience.com/machine-learning-fundamentals-via-linear-regression-41a5d11f5220).\n",
    ":::\n",
    "\n",
    "The **accuracy metric** measures the performance of a model. For example, a pixel to pixel comparison for agreement on class.\n",
    "\n",
    "Note: the **activation function** is also a hyper-parameter.\n"
   ]
  },
  {
   "cell_type": "markdown",
   "metadata": {
    "id": "w8u_iB_qr103"
   },
   "source": [
    "#### Common Deep Learning Algorithms for Computer Vision"
   ]
  },
  {
   "cell_type": "markdown",
   "metadata": {
    "id": "JOBRNGzJr104"
   },
   "source": [
    "- Image classification: classifying whole images, e.g. image with clouds, image without clouds\n",
    "- Object detection: identifying locations of objects in an image and classifying them, e.g. identify bounding boxes of cars and planes in satellite imagery\n",
    "- Semantic segmentation: classifying individual pixels in an image, e.g. land cover classification\n",
    "- Instance segmentation: classifying individual pixels in an image in terms of both class and individual membership, e.g. detecting unique agricultural field polygons and classifying them\n",
    "- Generative Adversarial:  a type of image generation where synthetic images are created from real ones, e.g. creating synthetic landscapes from real landscape images"
   ]
  },
  {
   "cell_type": "markdown",
   "metadata": {
    "id": "ER9BsdhZr104"
   },
   "source": [
    "#### Semantic Segmentation\n",
    "To pair with the content of these tutorials, we will demonstrate semantic segmentation (supervised) to map land use categories and illegal gold mining activity. \n",
    "- Semantic = of or relating to meaning (class)\n",
    "- Segmentation = division (of image) into separate parts"
   ]
  },
  {
   "cell_type": "markdown",
   "metadata": {
    "id": "OivrQedDr104"
   },
   "source": [
    "#### U-Net Segmentation Architecture\n",
    "\n",
    "Semantic segmentation is often distilled into the combination of an encoder and a decoder. An encoder generates logic or feedback from input data, and a decoder takes that feedback and translates it to output data in the same form as the input.\n",
    "\n",
    "The U-Net model, which is one of many deep learning segmentation algorithms, has a great illustration of this structure. \n",
    "\n",
    ":::{figure-md} Unet-fig\n",
    "<img src=\"https://developers.arcgis.com/assets/img/python-graphics/unet.png\" width=\"600px\">\n",
    "\n",
    "U-Net architecture (from [Ronneberger et al., 2015](https://arxiv.org/abs/1505.04597)).\n",
    ":::\n",
    "\n",
    "In Fig. 13, the encoder is on the left side of the model. It consists of consecutive convolutional layers, each followed by ReLU and a max pooling operation to encode feature representations at multiple scales. The encoder can be represented by most feature extraction networks designed for classification. \n",
    "\n",
    "The decoder, on the right side of the Fig. 13 diagram, is tasked to semantically project the discriminative features learned by the encoder onto the original pixel space to render a dense classification. The decoder consists of deconvolution and concatenation followed by regular convolution operations. \n",
    "\n",
    "Following the decoder is the final classification layer, which computes the pixel-wise classification for each cell in the final feature map.\n",
    "\n",
    "ReLU is an operation, an activation function to be specific, that induces non-linearity. This function intakes the feature map from a convolution operation and remaps it such that any positive value stays exactly the same, and any negative value becomes zero.\n",
    "\n",
    ":::{figure-md} relu-graph-fig\n",
    "<img src=\"https://miro.medium.com/max/3200/1*w48zY6o9_5W9iesSsNabmQ.gif\" width=\"450px\">\n",
    "\n",
    "[ReLU activation function](https://medium.com/ai%C2%B3-theory-practice-business/magic-behind-activation-function-c6fbc5e36a92).\n",
    ":::\n",
    "\n",
    ":::{figure-md} relu-maxpooling-fig\n",
    "<img src=\"https://miro.medium.com/max/1000/1*cmGESKfSZLH2ksqF_kBgfQ.gif\" width=\"450px\">\n",
    "\n",
    "[ReLU applied to an input matrix](https://towardsdatascience.com/a-laymans-guide-to-building-your-first-image-classification-model-in-r-using-keras-b285deac6572).\n",
    ":::\n",
    "\n",
    "Max pooling is used to summarize a feature map and only retain the important structural elements, foregoing the more granular detail that may not be significant to the modeling task. This helps to denoise the signal and helps with computational efficiency. It works similar to convolution in that a kernel with a stride is applied to the feature map and only the maximum value within each patch is reserved.\n",
    "\n",
    ":::{figure-md} maxpooling-fig\n",
    "<img src=\"https://thumbs.gfycat.com/FirstMediumDalmatian-size_restricted.gif\" width=\"450px\">\n",
    "\n",
    "[Max pooling with a kernal over an input matrix](https://gfycat.com/firstmediumdalmatian).\n",
    ":::"
   ]
  }
 ],
 "metadata": {
  "colab": {
   "collapsed_sections": [],
   "name": "Copy of Lesson1a_Intro_ML_NN_DL.ipynb",
   "provenance": []
  },
  "kernelspec": {
   "display_name": "Python 3",
   "language": "python",
   "name": "python3"
  },
  "language_info": {
   "codemirror_mode": {
    "name": "ipython",
    "version": 3
   },
   "file_extension": ".py",
   "mimetype": "text/x-python",
   "name": "python",
   "nbconvert_exporter": "python",
   "pygments_lexer": "ipython3",
   "version": "3.8.11"
  }
 },
 "nbformat": 4,
 "nbformat_minor": 0
}